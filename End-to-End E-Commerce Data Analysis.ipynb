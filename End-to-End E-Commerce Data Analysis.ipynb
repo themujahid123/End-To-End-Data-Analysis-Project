{
 "cells": [
  {
   "cell_type": "code",
   "execution_count": 3,
   "id": "a0a9873d-2d2c-4be0-bc22-0f8e8cc0ab8c",
   "metadata": {},
   "outputs": [],
   "source": [
    "import pandas as pd \n",
    "import matplotlib.pyplot as plt \n",
    "import seaborn as sns \n",
    "import mysql.connector\n",
    "import numpy as np\n",
    "db = mysql.connector.connect( host='localhost',\n",
    "    user='root',\n",
    "    password='ameen@123',\n",
    "    database='ecommerce'\n",
    ")\n",
    "\n",
    "cur = db.cursor()"
   ]
  },
  {
   "cell_type": "markdown",
   "id": "36253daf-c2c9-4561-8b57-e2eddaadf29a",
   "metadata": {},
   "source": [
    "# list all the cities where customers are located "
   ]
  },
  {
   "cell_type": "code",
   "execution_count": 4,
   "id": "c081d0a8-7cc2-45e4-9edc-82d82d671185",
   "metadata": {},
   "outputs": [
    {
     "data": {
      "text/html": [
       "<div>\n",
       "<style scoped>\n",
       "    .dataframe tbody tr th:only-of-type {\n",
       "        vertical-align: middle;\n",
       "    }\n",
       "\n",
       "    .dataframe tbody tr th {\n",
       "        vertical-align: top;\n",
       "    }\n",
       "\n",
       "    .dataframe thead th {\n",
       "        text-align: right;\n",
       "    }\n",
       "</style>\n",
       "<table border=\"1\" class=\"dataframe\">\n",
       "  <thead>\n",
       "    <tr style=\"text-align: right;\">\n",
       "      <th></th>\n",
       "      <th>0</th>\n",
       "    </tr>\n",
       "  </thead>\n",
       "  <tbody>\n",
       "    <tr>\n",
       "      <th>0</th>\n",
       "      <td>franca</td>\n",
       "    </tr>\n",
       "    <tr>\n",
       "      <th>1</th>\n",
       "      <td>sao bernardo do campo</td>\n",
       "    </tr>\n",
       "    <tr>\n",
       "      <th>2</th>\n",
       "      <td>sao paulo</td>\n",
       "    </tr>\n",
       "    <tr>\n",
       "      <th>3</th>\n",
       "      <td>mogi das cruzes</td>\n",
       "    </tr>\n",
       "    <tr>\n",
       "      <th>4</th>\n",
       "      <td>campinas</td>\n",
       "    </tr>\n",
       "    <tr>\n",
       "      <th>...</th>\n",
       "      <td>...</td>\n",
       "    </tr>\n",
       "    <tr>\n",
       "      <th>4114</th>\n",
       "      <td>siriji</td>\n",
       "    </tr>\n",
       "    <tr>\n",
       "      <th>4115</th>\n",
       "      <td>natividade da serra</td>\n",
       "    </tr>\n",
       "    <tr>\n",
       "      <th>4116</th>\n",
       "      <td>monte bonito</td>\n",
       "    </tr>\n",
       "    <tr>\n",
       "      <th>4117</th>\n",
       "      <td>sao rafael</td>\n",
       "    </tr>\n",
       "    <tr>\n",
       "      <th>4118</th>\n",
       "      <td>eugenio de castro</td>\n",
       "    </tr>\n",
       "  </tbody>\n",
       "</table>\n",
       "<p>4119 rows × 1 columns</p>\n",
       "</div>"
      ],
      "text/plain": [
       "                          0\n",
       "0                    franca\n",
       "1     sao bernardo do campo\n",
       "2                 sao paulo\n",
       "3           mogi das cruzes\n",
       "4                  campinas\n",
       "...                     ...\n",
       "4114                 siriji\n",
       "4115    natividade da serra\n",
       "4116           monte bonito\n",
       "4117             sao rafael\n",
       "4118      eugenio de castro\n",
       "\n",
       "[4119 rows x 1 columns]"
      ]
     },
     "execution_count": 4,
     "metadata": {},
     "output_type": "execute_result"
    }
   ],
   "source": [
    "query = \"\"\" select distinct customer_city from customers\"\"\"\n",
    "\n",
    "cur.execute(query)\n",
    "\n",
    "data = cur.fetchall()\n",
    "\n",
    "data = pd.DataFrame(data)\n",
    "\n",
    "data"
   ]
  },
  {
   "cell_type": "markdown",
   "id": "551a3ce8-7875-4488-8ce8-8bdd2093e9e5",
   "metadata": {},
   "source": [
    "# Count the number of orders placed in 2017"
   ]
  },
  {
   "cell_type": "code",
   "execution_count": 5,
   "id": "71e9a030-461a-4e78-a80e-e7fd27db1a51",
   "metadata": {},
   "outputs": [
    {
     "data": {
      "text/plain": [
       "(' Total orders placed in 2017', 45101)"
      ]
     },
     "execution_count": 5,
     "metadata": {},
     "output_type": "execute_result"
    }
   ],
   "source": [
    "query = \"\"\" select count(distinct order_id) from orders\n",
    "where year(order_purchase_timestamp)= 2017\"\"\"\n",
    "\n",
    "cur.execute(query)\n",
    "\n",
    "data = cur.fetchall()\n",
    "\n",
    "\" Total orders placed in 2017\",data[0][0]"
   ]
  },
  {
   "cell_type": "markdown",
   "id": "a691bd0d-791d-488b-b2f5-62fc57781035",
   "metadata": {},
   "source": [
    "## Count the number of orders placed in 2018"
   ]
  },
  {
   "cell_type": "code",
   "execution_count": 6,
   "id": "94ae93aa-c5b9-4786-9d1a-ab3ed3036026",
   "metadata": {},
   "outputs": [
    {
     "data": {
      "text/plain": [
       "(' Total orders placed in 2018', 54011)"
      ]
     },
     "execution_count": 6,
     "metadata": {},
     "output_type": "execute_result"
    }
   ],
   "source": [
    "query = \"\"\" select count(distinct order_id) from orders\n",
    "where year(order_purchase_timestamp)= 2018\"\"\"\n",
    "\n",
    "cur.execute(query)\n",
    "\n",
    "data = cur.fetchall()\n",
    "\n",
    "\" Total orders placed in 2018\",data[0][0]"
   ]
  },
  {
   "cell_type": "markdown",
   "id": "f4c1d9d1-19fb-4b9a-b2b1-86f9cdf7be7c",
   "metadata": {},
   "source": [
    "# Observation \n",
    "* Orders increased from 45,101 in 2017 to 54,011 in 2018, showing a ~19.8% YoY growth.\n"
   ]
  },
  {
   "cell_type": "markdown",
   "id": "4e6e6911-90cd-4822-ada8-4955531c916b",
   "metadata": {},
   "source": [
    "## Total sales per category "
   ]
  },
  {
   "cell_type": "code",
   "execution_count": 37,
   "id": "2eea720c-410d-4dd7-bcc0-57fc24af85e3",
   "metadata": {},
   "outputs": [
    {
     "data": {
      "text/html": [
       "<div>\n",
       "<style scoped>\n",
       "    .dataframe tbody tr th:only-of-type {\n",
       "        vertical-align: middle;\n",
       "    }\n",
       "\n",
       "    .dataframe tbody tr th {\n",
       "        vertical-align: top;\n",
       "    }\n",
       "\n",
       "    .dataframe thead th {\n",
       "        text-align: right;\n",
       "    }\n",
       "</style>\n",
       "<table border=\"1\" class=\"dataframe\">\n",
       "  <thead>\n",
       "    <tr style=\"text-align: right;\">\n",
       "      <th></th>\n",
       "      <th>Category</th>\n",
       "      <th>Totalsales</th>\n",
       "    </tr>\n",
       "  </thead>\n",
       "  <tbody>\n",
       "    <tr>\n",
       "      <th>0</th>\n",
       "      <td>BED TABLE BATH</td>\n",
       "      <td>3425107.0</td>\n",
       "    </tr>\n",
       "    <tr>\n",
       "      <th>1</th>\n",
       "      <td>HEALTH BEAUTY</td>\n",
       "      <td>3314746.0</td>\n",
       "    </tr>\n",
       "    <tr>\n",
       "      <th>2</th>\n",
       "      <td>COMPUTER ACCESSORIES</td>\n",
       "      <td>3170661.0</td>\n",
       "    </tr>\n",
       "    <tr>\n",
       "      <th>3</th>\n",
       "      <td>FURNITURE DECORATION</td>\n",
       "      <td>2860353.0</td>\n",
       "    </tr>\n",
       "    <tr>\n",
       "      <th>4</th>\n",
       "      <td>WATCHES PRESENT</td>\n",
       "      <td>2858433.0</td>\n",
       "    </tr>\n",
       "  </tbody>\n",
       "</table>\n",
       "</div>"
      ],
      "text/plain": [
       "               Category  Totalsales\n",
       "0        BED TABLE BATH   3425107.0\n",
       "1         HEALTH BEAUTY   3314746.0\n",
       "2  COMPUTER ACCESSORIES   3170661.0\n",
       "3  FURNITURE DECORATION   2860353.0\n",
       "4       WATCHES PRESENT   2858433.0"
      ]
     },
     "execution_count": 37,
     "metadata": {},
     "output_type": "execute_result"
    }
   ],
   "source": [
    "query = \"\"\" select upper(products.product_category),round(sum(payments.payment_value)) as total_sales \n",
    "from products \n",
    "join order_items on order_items.product_id = products.product_id\n",
    "join payments on payments.order_id=order_items.order_id\n",
    "group by products.product_category\n",
    "order by total_sales desc\n",
    "\"\"\"\n",
    "\n",
    "cur.execute(query)\n",
    "\n",
    "data = cur.fetchall()\n",
    "\n",
    "data =  pd.DataFrame(data,columns = [\"Category\",\"Totalsales\"])\n",
    "data.head(5)"
   ]
  },
  {
   "cell_type": "code",
   "execution_count": 39,
   "id": "08d4c77c-7ed3-4ee3-aee3-52f52f65bbeb",
   "metadata": {},
   "outputs": [
    {
     "data": {
      "image/png": "[encoded data removed]",
      "text/plain": [
       "<Figure size 640x480 with 1 Axes>"
      ]
     },
     "metadata": {},
     "output_type": "display_data"
    }
   ],
   "source": [
    "top5 = data.nlargest(5, \"Totalsales\")   # take top 5 rows\n",
    "sns.barplot(x=\"Totalsales\", y=\"Category\", data=top5,color=\"purple\")\n",
    "plt.title(\"Top 5 Categories by Totalsales\")\n",
    "plt.show()"
   ]
  },
  {
   "cell_type": "markdown",
   "id": "6b6e9948-542f-48d6-b5e1-943575c331c5",
   "metadata": {},
   "source": [
    "# Observation\n",
    "** The Bed, Table, Bath category leads with 3.4M in sales, showing strong demand for household essentials.\n",
    "* Health & Beauty and Computer Accessories are also top contributors (~3.3M & 3.1M), highlighting consumer spending in personal care and tech products.\n",
    "* Categories like Furniture Decoration and Watches & Presents (~2.8M each) indicate a growing lifestyle and gifting market.\n",
    "* Insight: The business can prioritize inventory & marketing around these top categories to maximize revenue impact."
   ]
  },
  {
   "cell_type": "markdown",
   "id": "c4f94ea5-1d12-4b39-a9ef-35e00bcecdae",
   "metadata": {},
   "source": [
    "## Calculate percentage of the orders that paid by installment"
   ]
  },
  {
   "cell_type": "code",
   "execution_count": 9,
   "id": "a194df45-105c-444d-a916-561dde3a9e41",
   "metadata": {},
   "outputs": [
    {
     "data": {
      "text/plain": [
       "[(Decimal('99.9981'),)]"
      ]
     },
     "execution_count": 9,
     "metadata": {},
     "output_type": "execute_result"
    }
   ],
   "source": [
    "query = \"\"\" select (sum(case when payment_installments >=1 then 1 else 0 end )/count(*))*100\n",
    "           from payments\"\"\"\n",
    "\n",
    "cur.execute(query)\n",
    "\n",
    "data = cur.fetchall()\n",
    "data"
   ]
  },
  {
   "cell_type": "markdown",
   "id": "44c08d70-2a88-49a0-aee9-25c354648254",
   "metadata": {},
   "source": [
    "- Nearly all customers (≈100%) prefer installment-based payments over one-time payments.\n",
    "- This shows that the platform’s installment option is a key enabler of sales, making products more accessible and boosting overall order volume.\n",
    "- Business Insight: The company should maintain and expand installment schemes (e.g., EMI partnerships with banks), since removing or           limiting them could badly reduce sales."
   ]
  },
  {
   "cell_type": "markdown",
   "id": "ea40b9bc-b3ed-4d46-abe7-3e2fceb8add7",
   "metadata": {},
   "source": [
    "## count the number of customers each state"
   ]
  },
  {
   "cell_type": "code",
   "execution_count": 35,
   "id": "4845a83a-b21b-4c7b-9e4c-a020804ab7fe",
   "metadata": {},
   "outputs": [
    {
     "data": {
      "image/png": "[encoded data removed]",
      "text/plain": [
       "<Figure size 1000x600 with 1 Axes>"
      ]
     },
     "metadata": {},
     "output_type": "display_data"
    }
   ],
   "source": [
    "query=\"\"\"select customer_state,count(customer_state) as total_customers \n",
    "         from customers \n",
    "         group by 1\n",
    "         order by total_customers desc\"\"\"\n",
    "cur.execute(query)\n",
    "\n",
    "data = cur.fetchall()\n",
    "data=pd.DataFrame(data,columns=[\"state\",\"total_customers\"])\n",
    "plt.figure(figsize=(10,6))\n",
    "a=sns.barplot(x = \"state\", y = \"total_customers\", data = data,color=\"purple\")\n",
    "plt.show()"
   ]
  },
  {
   "cell_type": "markdown",
   "id": "8543dc5a-457d-4b57-9784-4d5704822f34",
   "metadata": {},
   "source": [
    "# Observatio\n",
    "* SP dominates with 83.5K customers, the largest share in the dataset.\n",
    "* RJ and MG follow with ~25.7K and 23.2K customers respectively.\n",
    "* Other high-customer states: RS, PR, SC.\n",
    "* Customer base is heavily concentrated in a few states (SP, RJ, MG), while smaller states (RR, AP, AC) have minimal representation.\n",
    "* Business Insight: The company should focus logistics and marketing resources in SP, RJ, and MG to capture maximum sales impact."
   ]
  },
  {
   "cell_type": "markdown",
   "id": "e309a821-de40-4814-8ba0-5e7a74b5fe5e",
   "metadata": {},
   "source": [
    "# Calculate the total number of orders per month in 2018"
   ]
  },
  {
   "cell_type": "code",
   "execution_count": 14,
   "id": "5d3a21ac-1622-4c1e-9cc7-1810603ede61",
   "metadata": {},
   "outputs": [
    {
     "data": {
      "text/html": [
       "<div>\n",
       "<style scoped>\n",
       "    .dataframe tbody tr th:only-of-type {\n",
       "        vertical-align: middle;\n",
       "    }\n",
       "\n",
       "    .dataframe tbody tr th {\n",
       "        vertical-align: top;\n",
       "    }\n",
       "\n",
       "    .dataframe thead th {\n",
       "        text-align: right;\n",
       "    }\n",
       "</style>\n",
       "<table border=\"1\" class=\"dataframe\">\n",
       "  <thead>\n",
       "    <tr style=\"text-align: right;\">\n",
       "      <th></th>\n",
       "      <th>Month</th>\n",
       "      <th>Total_Customers</th>\n",
       "    </tr>\n",
       "  </thead>\n",
       "  <tbody>\n",
       "    <tr>\n",
       "      <th>0</th>\n",
       "      <td>1</td>\n",
       "      <td>14538</td>\n",
       "    </tr>\n",
       "    <tr>\n",
       "      <th>1</th>\n",
       "      <td>2</td>\n",
       "      <td>13456</td>\n",
       "    </tr>\n",
       "    <tr>\n",
       "      <th>2</th>\n",
       "      <td>3</td>\n",
       "      <td>14422</td>\n",
       "    </tr>\n",
       "    <tr>\n",
       "      <th>3</th>\n",
       "      <td>4</td>\n",
       "      <td>13878</td>\n",
       "    </tr>\n",
       "    <tr>\n",
       "      <th>4</th>\n",
       "      <td>5</td>\n",
       "      <td>13746</td>\n",
       "    </tr>\n",
       "    <tr>\n",
       "      <th>5</th>\n",
       "      <td>6</td>\n",
       "      <td>12334</td>\n",
       "    </tr>\n",
       "    <tr>\n",
       "      <th>6</th>\n",
       "      <td>7</td>\n",
       "      <td>12584</td>\n",
       "    </tr>\n",
       "    <tr>\n",
       "      <th>7</th>\n",
       "      <td>8</td>\n",
       "      <td>13024</td>\n",
       "    </tr>\n",
       "    <tr>\n",
       "      <th>8</th>\n",
       "      <td>9</td>\n",
       "      <td>32</td>\n",
       "    </tr>\n",
       "    <tr>\n",
       "      <th>9</th>\n",
       "      <td>10</td>\n",
       "      <td>8</td>\n",
       "    </tr>\n",
       "  </tbody>\n",
       "</table>\n",
       "</div>"
      ],
      "text/plain": [
       "   Month  Total_Customers\n",
       "0      1            14538\n",
       "1      2            13456\n",
       "2      3            14422\n",
       "3      4            13878\n",
       "4      5            13746\n",
       "5      6            12334\n",
       "6      7            12584\n",
       "7      8            13024\n",
       "8      9               32\n",
       "9     10                8"
      ]
     },
     "execution_count": 14,
     "metadata": {},
     "output_type": "execute_result"
    }
   ],
   "source": [
    "query=\"\"\"select month(order_purchase_timestamp) as month,count(order_id) as total_orders\n",
    "from orders \n",
    "where year(order_purchase_timestamp) = 2018\n",
    "group by month\n",
    "order by month asc\"\"\"\n",
    "\n",
    "cur.execute(query)\n",
    "\n",
    "data = cur.fetchall()\n",
    "data=pd.DataFrame(data,columns=[\"Month\",\"Total_Customers\"])\n",
    "data"
   ]
  },
  {
   "cell_type": "code",
   "execution_count": 15,
   "id": "5c97f642-8491-4d66-a27a-091f266c874c",
   "metadata": {},
   "outputs": [
    {
     "data": {
      "image/png": "[encoded data removed]",
      "text/plain": [
       "<Figure size 640x480 with 1 Axes>"
      ]
     },
     "metadata": {},
     "output_type": "display_data"
    }
   ],
   "source": [
    "ax=sns.barplot(x=data[\"Month\"],y=data[\"Total_Customers\"],data=data,color=\"purple\")\n",
    "ax.bar_label(ax.containers[0])\n",
    "plt.show()"
   ]
  },
  {
   "cell_type": "markdown",
   "id": "1d658061-1cd1-40e5-8abe-06834843dbce",
   "metadata": {},
   "source": [
    "# Find the avg number of products per orders group by city "
   ]
  },
  {
   "cell_type": "code",
   "execution_count": 16,
   "id": "22b2336a-c410-4674-a3f2-710ec55666df",
   "metadata": {},
   "outputs": [
    {
     "data": {
      "text/html": [
       "<div>\n",
       "<style scoped>\n",
       "    .dataframe tbody tr th:only-of-type {\n",
       "        vertical-align: middle;\n",
       "    }\n",
       "\n",
       "    .dataframe tbody tr th {\n",
       "        vertical-align: top;\n",
       "    }\n",
       "\n",
       "    .dataframe thead th {\n",
       "        text-align: right;\n",
       "    }\n",
       "</style>\n",
       "<table border=\"1\" class=\"dataframe\">\n",
       "  <thead>\n",
       "    <tr style=\"text-align: right;\">\n",
       "      <th></th>\n",
       "      <th>City</th>\n",
       "      <th>Avg orders</th>\n",
       "    </tr>\n",
       "  </thead>\n",
       "  <tbody>\n",
       "    <tr>\n",
       "      <th>0</th>\n",
       "      <td>santa cecilia do pavao</td>\n",
       "      <td>6.0000</td>\n",
       "    </tr>\n",
       "    <tr>\n",
       "      <th>1</th>\n",
       "      <td>anhandui</td>\n",
       "      <td>6.0000</td>\n",
       "    </tr>\n",
       "    <tr>\n",
       "      <th>2</th>\n",
       "      <td>itaqui</td>\n",
       "      <td>4.4444</td>\n",
       "    </tr>\n",
       "    <tr>\n",
       "      <th>3</th>\n",
       "      <td>mata verde</td>\n",
       "      <td>4.3333</td>\n",
       "    </tr>\n",
       "    <tr>\n",
       "      <th>4</th>\n",
       "      <td>sao jorge do ivai</td>\n",
       "      <td>4.0000</td>\n",
       "    </tr>\n",
       "    <tr>\n",
       "      <th>5</th>\n",
       "      <td>taperuaba</td>\n",
       "      <td>4.0000</td>\n",
       "    </tr>\n",
       "    <tr>\n",
       "      <th>6</th>\n",
       "      <td>perola d'oeste</td>\n",
       "      <td>4.0000</td>\n",
       "    </tr>\n",
       "    <tr>\n",
       "      <th>7</th>\n",
       "      <td>santa barbara d oeste</td>\n",
       "      <td>4.0000</td>\n",
       "    </tr>\n",
       "    <tr>\n",
       "      <th>8</th>\n",
       "      <td>igaracu do tiete</td>\n",
       "      <td>4.0000</td>\n",
       "    </tr>\n",
       "    <tr>\n",
       "      <th>9</th>\n",
       "      <td>brejoes</td>\n",
       "      <td>4.0000</td>\n",
       "    </tr>\n",
       "  </tbody>\n",
       "</table>\n",
       "</div>"
      ],
      "text/plain": [
       "                     City Avg orders\n",
       "0  santa cecilia do pavao     6.0000\n",
       "1                anhandui     6.0000\n",
       "2                  itaqui     4.4444\n",
       "3              mata verde     4.3333\n",
       "4       sao jorge do ivai     4.0000\n",
       "5               taperuaba     4.0000\n",
       "6          perola d'oeste     4.0000\n",
       "7   santa barbara d oeste     4.0000\n",
       "8        igaracu do tiete     4.0000\n",
       "9                 brejoes     4.0000"
      ]
     },
     "execution_count": 16,
     "metadata": {},
     "output_type": "execute_result"
    }
   ],
   "source": [
    "query=\"\"\"with counts as (\n",
    "select o.order_id,o.customer_id,count(p.order_id) as count_of_orders \n",
    "from orders o \n",
    "join payments p on p.order_id=o.order_id\n",
    "group by o.order_id,o.customer_id)\n",
    "\n",
    "select cs.customer_city,avg(count_of_orders) as avg_orders \n",
    "from customers cs\n",
    "join counts c on cs.customer_id=c.customer_id\n",
    "group by cs.customer_city\n",
    "order by avg_orders desc\"\"\"\n",
    "\n",
    "cur.execute(query)\n",
    "\n",
    "data = cur.fetchall()\n",
    "data =  pd.DataFrame(data,columns = [\"City\",\"Avg orders\"])\n",
    "\n",
    "data.head(10)"
   ]
  },
  {
   "cell_type": "markdown",
   "id": "09e6f1ef-993a-42e8-9f1b-8441574ab0b8",
   "metadata": {},
   "source": [
    "# Observation \n",
    "- Cities such as Santa Cecília do Pavão and Anhandui recorded the highest average orders per customer (~6).\n",
    "- Many cities like Itaqui, Mata Verde, and São Jorge do Ivaí show averages around 4 orders per customer.\n",
    "- The results highlight clear variation in order frequency across cities."
   ]
  },
  {
   "cell_type": "markdown",
   "id": "9c7905f0-ac14-46bf-9529-c7ebc0a07889",
   "metadata": {},
   "source": [
    "# Calculate total percentage of revenue contributing each product_category "
   ]
  },
  {
   "cell_type": "code",
   "execution_count": 20,
   "id": "7a36c795-fff7-4402-939a-2627d38da58c",
   "metadata": {},
   "outputs": [
    {
     "data": {
      "text/html": [
       "<div>\n",
       "<style scoped>\n",
       "    .dataframe tbody tr th:only-of-type {\n",
       "        vertical-align: middle;\n",
       "    }\n",
       "\n",
       "    .dataframe tbody tr th {\n",
       "        vertical-align: top;\n",
       "    }\n",
       "\n",
       "    .dataframe thead th {\n",
       "        text-align: right;\n",
       "    }\n",
       "</style>\n",
       "<table border=\"1\" class=\"dataframe\">\n",
       "  <thead>\n",
       "    <tr style=\"text-align: right;\">\n",
       "      <th></th>\n",
       "      <th>Products_Categories</th>\n",
       "      <th>Revenue_percentage</th>\n",
       "    </tr>\n",
       "  </thead>\n",
       "  <tbody>\n",
       "    <tr>\n",
       "      <th>0</th>\n",
       "      <td>BED TABLE BATH</td>\n",
       "      <td>21.40</td>\n",
       "    </tr>\n",
       "    <tr>\n",
       "      <th>1</th>\n",
       "      <td>HEALTH BEAUTY</td>\n",
       "      <td>20.71</td>\n",
       "    </tr>\n",
       "    <tr>\n",
       "      <th>2</th>\n",
       "      <td>COMPUTER ACCESSORIES</td>\n",
       "      <td>19.81</td>\n",
       "    </tr>\n",
       "    <tr>\n",
       "      <th>3</th>\n",
       "      <td>FURNITURE DECORATION</td>\n",
       "      <td>17.87</td>\n",
       "    </tr>\n",
       "    <tr>\n",
       "      <th>4</th>\n",
       "      <td>WATCHES PRESENT</td>\n",
       "      <td>17.86</td>\n",
       "    </tr>\n",
       "    <tr>\n",
       "      <th>5</th>\n",
       "      <td>SPORT LEISURE</td>\n",
       "      <td>17.39</td>\n",
       "    </tr>\n",
       "    <tr>\n",
       "      <th>6</th>\n",
       "      <td>HOUSEWARES</td>\n",
       "      <td>13.68</td>\n",
       "    </tr>\n",
       "    <tr>\n",
       "      <th>7</th>\n",
       "      <td>AUTOMOTIVE</td>\n",
       "      <td>10.65</td>\n",
       "    </tr>\n",
       "    <tr>\n",
       "      <th>8</th>\n",
       "      <td>GARDEN TOOLS</td>\n",
       "      <td>10.47</td>\n",
       "    </tr>\n",
       "    <tr>\n",
       "      <th>9</th>\n",
       "      <td>COOL STUFF</td>\n",
       "      <td>9.74</td>\n",
       "    </tr>\n",
       "  </tbody>\n",
       "</table>\n",
       "</div>"
      ],
      "text/plain": [
       "    Products_Categories  Revenue_percentage\n",
       "0        BED TABLE BATH               21.40\n",
       "1         HEALTH BEAUTY               20.71\n",
       "2  COMPUTER ACCESSORIES               19.81\n",
       "3  FURNITURE DECORATION               17.87\n",
       "4       WATCHES PRESENT               17.86\n",
       "5         SPORT LEISURE               17.39\n",
       "6            HOUSEWARES               13.68\n",
       "7            AUTOMOTIVE               10.65\n",
       "8          GARDEN TOOLS               10.47\n",
       "9            COOL STUFF                9.74"
      ]
     },
     "execution_count": 20,
     "metadata": {},
     "output_type": "execute_result"
    }
   ],
   "source": [
    "query=\"\"\"SELECT UPPER(p.product_category) AS product_category,\n",
    "    ROUND(SUM(pm.payment_value) / (SELECT SUM(payment_value) FROM payments) * 100, 2) AS total_sales\n",
    "FROM products p\n",
    "JOIN order_items oi \n",
    "    ON oi.product_id = p.product_id\n",
    "JOIN payments pm \n",
    "    ON pm.order_id = oi.order_id\n",
    "GROUP BY p.product_category\n",
    "ORDER BY total_sales DESC\"\"\"\n",
    "\n",
    "cur.execute(query)\n",
    "\n",
    "data = cur.fetchall()\n",
    "\n",
    "cur.execute(query)\n",
    "\n",
    "data = cur.fetchall()\n",
    "data =  pd.DataFrame(data,columns = [\"Products_Categories\",\"Revenue_percentage\"])\n",
    "data.head(10)"
   ]
  },
  {
   "cell_type": "markdown",
   "id": "810c7a33-28d8-4e36-b909-7309e24c51c7",
   "metadata": {},
   "source": [
    "# Observation\n",
    "- Bed Table Bath (21.40%) and Health Beauty (20.71%) are the two largest contributors, together making up over 42% of total sales.\n",
    "- Categories like Computer Accessories (19.81%), Furniture Decoration (17.87%), and Watches Present (17.86%) also show strong contributions.\n",
    "- The top 5 categories alone account for ~98% of sales, showing a highly concentrated distribution across limited categories."
   ]
  },
  {
   "cell_type": "markdown",
   "id": "0fb7d8a2-ae80-4d0f-8fb4-52616e8ce214",
   "metadata": {},
   "source": [
    "# Identify correlations between product price and the number of time product has been purchassed "
   ]
  },
  {
   "cell_type": "code",
   "execution_count": 23,
   "id": "4acd3d8d-700d-4a2a-b90c-2ba4d18e636a",
   "metadata": {},
   "outputs": [
    {
     "data": {
      "text/plain": [
       "array([[ 1.       , -0.1064395],\n",
       "       [-0.1064395,  1.       ]])"
      ]
     },
     "execution_count": 23,
     "metadata": {},
     "output_type": "execute_result"
    }
   ],
   "source": [
    "query=\"\"\"SELECT P.product_category,count(p.product_id) as order_counts,\n",
    "round(avg(oi.price)) as avg_price from products p \n",
    "join order_items oi on p.product_id=oi.product_id\n",
    "group by p.product_category\"\"\"\n",
    "\n",
    "cur.execute(query)\n",
    "\n",
    "data = cur.fetchall()\n",
    "data = pd.DataFrame(data,columns=[\"product_category\",\"order_counts\",\"avg_price\"])\n",
    "data\n",
    "array1=data[\"order_counts\"]\n",
    "array2=data[\"avg_price\"]\n",
    "ax=np.corrcoef([array1,array2])\n",
    "ax\n"
   ]
  },
  {
   "cell_type": "markdown",
   "id": "a3710c55-1cd5-41f2-9c5a-e73c087ceadd",
   "metadata": {},
   "source": [
    "# Observation \n",
    "- The correlation between product price and purchase frequency is -0.106.\n",
    "- This shows only a very weak negative relationship.\n",
    "- In simple terms, price has almost no significant impact on how often products are purchased."
   ]
  },
  {
   "cell_type": "markdown",
   "id": "aa34fccd-eaea-416d-b3db-8a6277782759",
   "metadata": {},
   "source": [
    "# Calculate total revenue generated by each celler and rank them by revenue"
   ]
  },
  {
   "cell_type": "code",
   "execution_count": 25,
   "id": "e50135ae-523a-4102-97b1-67867e371f07",
   "metadata": {},
   "outputs": [
    {
     "data": {
      "text/html": [
       "<div>\n",
       "<style scoped>\n",
       "    .dataframe tbody tr th:only-of-type {\n",
       "        vertical-align: middle;\n",
       "    }\n",
       "\n",
       "    .dataframe tbody tr th {\n",
       "        vertical-align: top;\n",
       "    }\n",
       "\n",
       "    .dataframe thead th {\n",
       "        text-align: right;\n",
       "    }\n",
       "</style>\n",
       "<table border=\"1\" class=\"dataframe\">\n",
       "  <thead>\n",
       "    <tr style=\"text-align: right;\">\n",
       "      <th></th>\n",
       "      <th>Seller_id</th>\n",
       "      <th>Revenue</th>\n",
       "      <th>Rank</th>\n",
       "    </tr>\n",
       "  </thead>\n",
       "  <tbody>\n",
       "    <tr>\n",
       "      <th>0</th>\n",
       "      <td>7c67e1448b00f6e969d365cea6b010ab</td>\n",
       "      <td>507167.0</td>\n",
       "      <td>1</td>\n",
       "    </tr>\n",
       "    <tr>\n",
       "      <th>1</th>\n",
       "      <td>1025f0e2d44d7041d6cf58b6550e0bfa</td>\n",
       "      <td>308222.0</td>\n",
       "      <td>2</td>\n",
       "    </tr>\n",
       "    <tr>\n",
       "      <th>2</th>\n",
       "      <td>4a3ca9315b744ce9f8e9374361493884</td>\n",
       "      <td>301245.0</td>\n",
       "      <td>3</td>\n",
       "    </tr>\n",
       "    <tr>\n",
       "      <th>3</th>\n",
       "      <td>1f50f920176fa81dab994f9023523100</td>\n",
       "      <td>290253.0</td>\n",
       "      <td>4</td>\n",
       "    </tr>\n",
       "    <tr>\n",
       "      <th>4</th>\n",
       "      <td>53243585a1d6dc2643021fd1853d8905</td>\n",
       "      <td>284903.0</td>\n",
       "      <td>5</td>\n",
       "    </tr>\n",
       "    <tr>\n",
       "      <th>5</th>\n",
       "      <td>da8622b14eb17ae2831f4ac5b9dab84a</td>\n",
       "      <td>272219.0</td>\n",
       "      <td>6</td>\n",
       "    </tr>\n",
       "    <tr>\n",
       "      <th>6</th>\n",
       "      <td>4869f7a5dfa277a7dca6462dcf3b52b2</td>\n",
       "      <td>264166.0</td>\n",
       "      <td>7</td>\n",
       "    </tr>\n",
       "    <tr>\n",
       "      <th>7</th>\n",
       "      <td>955fee9216a65b617aa5c0531780ce60</td>\n",
       "      <td>236322.0</td>\n",
       "      <td>8</td>\n",
       "    </tr>\n",
       "    <tr>\n",
       "      <th>8</th>\n",
       "      <td>fa1c13f2614d7b5c4749cbc52fecda94</td>\n",
       "      <td>206513.0</td>\n",
       "      <td>9</td>\n",
       "    </tr>\n",
       "    <tr>\n",
       "      <th>9</th>\n",
       "      <td>7e93a43ef30c4f03f38b393420bc753a</td>\n",
       "      <td>185134.0</td>\n",
       "      <td>10</td>\n",
       "    </tr>\n",
       "  </tbody>\n",
       "</table>\n",
       "</div>"
      ],
      "text/plain": [
       "                          Seller_id   Revenue  Rank\n",
       "0  7c67e1448b00f6e969d365cea6b010ab  507167.0     1\n",
       "1  1025f0e2d44d7041d6cf58b6550e0bfa  308222.0     2\n",
       "2  4a3ca9315b744ce9f8e9374361493884  301245.0     3\n",
       "3  1f50f920176fa81dab994f9023523100  290253.0     4\n",
       "4  53243585a1d6dc2643021fd1853d8905  284903.0     5\n",
       "5  da8622b14eb17ae2831f4ac5b9dab84a  272219.0     6\n",
       "6  4869f7a5dfa277a7dca6462dcf3b52b2  264166.0     7\n",
       "7  955fee9216a65b617aa5c0531780ce60  236322.0     8\n",
       "8  fa1c13f2614d7b5c4749cbc52fecda94  206513.0     9\n",
       "9  7e93a43ef30c4f03f38b393420bc753a  185134.0    10"
      ]
     },
     "execution_count": 25,
     "metadata": {},
     "output_type": "execute_result"
    }
   ],
   "source": [
    "query=\"\"\"WITH x AS (\n",
    "    SELECT \n",
    "        oi.seller_id,\n",
    "        ROUND(SUM(p.payment_value)) AS total_revenue\n",
    "    FROM payments p \n",
    "    JOIN order_items oi ON oi.order_id = p.order_id\n",
    "    GROUP BY oi.seller_id\n",
    ")\n",
    "SELECT \n",
    "    seller_id,\n",
    "    total_revenue,\n",
    "    dense_rank() OVER (ORDER BY total_revenue DESC) AS revenue_rank\n",
    "FROM x;\n",
    "\"\"\"\n",
    "\n",
    "cur.execute(query)\n",
    "\n",
    "data = cur.fetchall()\n",
    "data = pd.DataFrame(data,columns=[\"Seller_id\",\"Revenue\",\"Rank\"])\n",
    "data=data.head(10)\n",
    "data\n"
   ]
  },
  {
   "cell_type": "markdown",
   "id": "ec2cd6be-7bf2-48e5-a4fb-0f7bb265b618",
   "metadata": {},
   "source": [
    "# Obseration \n",
    "- The top seller earned about 507K revenue, which is much higher than others.\n",
    "- The 2nd and 3rd sellers made around 308K and 301K.\n",
    "- Overall, the top 10 sellers are the biggest revenue contributors, with a clear gap between rank 1 and the rest."
   ]
  },
  {
   "cell_type": "markdown",
   "id": "b884e0f1-c55b-4ede-9f56-f7e9ebcc6624",
   "metadata": {},
   "source": [
    "# Calculate cumulative sales per month for each year"
   ]
  },
  {
   "cell_type": "code",
   "execution_count": 29,
   "id": "88d40a13-69a0-4026-9333-258f70eaa45d",
   "metadata": {},
   "outputs": [
    {
     "data": {
      "text/html": [
       "<div>\n",
       "<style scoped>\n",
       "    .dataframe tbody tr th:only-of-type {\n",
       "        vertical-align: middle;\n",
       "    }\n",
       "\n",
       "    .dataframe tbody tr th {\n",
       "        vertical-align: top;\n",
       "    }\n",
       "\n",
       "    .dataframe thead th {\n",
       "        text-align: right;\n",
       "    }\n",
       "</style>\n",
       "<table border=\"1\" class=\"dataframe\">\n",
       "  <thead>\n",
       "    <tr style=\"text-align: right;\">\n",
       "      <th></th>\n",
       "      <th>Years</th>\n",
       "      <th>Months</th>\n",
       "      <th>total_revenue</th>\n",
       "      <th>cumulative_sales</th>\n",
       "    </tr>\n",
       "  </thead>\n",
       "  <tbody>\n",
       "    <tr>\n",
       "      <th>0</th>\n",
       "      <td>2016</td>\n",
       "      <td>9</td>\n",
       "      <td>504.0</td>\n",
       "      <td>504.0</td>\n",
       "    </tr>\n",
       "    <tr>\n",
       "      <th>1</th>\n",
       "      <td>2016</td>\n",
       "      <td>10</td>\n",
       "      <td>118181.0</td>\n",
       "      <td>118685.0</td>\n",
       "    </tr>\n",
       "    <tr>\n",
       "      <th>2</th>\n",
       "      <td>2016</td>\n",
       "      <td>12</td>\n",
       "      <td>39.0</td>\n",
       "      <td>118724.0</td>\n",
       "    </tr>\n",
       "    <tr>\n",
       "      <th>3</th>\n",
       "      <td>2017</td>\n",
       "      <td>1</td>\n",
       "      <td>276976.0</td>\n",
       "      <td>395700.0</td>\n",
       "    </tr>\n",
       "    <tr>\n",
       "      <th>4</th>\n",
       "      <td>2017</td>\n",
       "      <td>2</td>\n",
       "      <td>583816.0</td>\n",
       "      <td>979516.0</td>\n",
       "    </tr>\n",
       "    <tr>\n",
       "      <th>5</th>\n",
       "      <td>2017</td>\n",
       "      <td>3</td>\n",
       "      <td>899727.0</td>\n",
       "      <td>1879243.0</td>\n",
       "    </tr>\n",
       "    <tr>\n",
       "      <th>6</th>\n",
       "      <td>2017</td>\n",
       "      <td>4</td>\n",
       "      <td>835576.0</td>\n",
       "      <td>2714819.0</td>\n",
       "    </tr>\n",
       "    <tr>\n",
       "      <th>7</th>\n",
       "      <td>2017</td>\n",
       "      <td>5</td>\n",
       "      <td>1185838.0</td>\n",
       "      <td>3900657.0</td>\n",
       "    </tr>\n",
       "    <tr>\n",
       "      <th>8</th>\n",
       "      <td>2017</td>\n",
       "      <td>6</td>\n",
       "      <td>1022553.0</td>\n",
       "      <td>4923210.0</td>\n",
       "    </tr>\n",
       "    <tr>\n",
       "      <th>9</th>\n",
       "      <td>2017</td>\n",
       "      <td>7</td>\n",
       "      <td>1184766.0</td>\n",
       "      <td>6107976.0</td>\n",
       "    </tr>\n",
       "    <tr>\n",
       "      <th>10</th>\n",
       "      <td>2017</td>\n",
       "      <td>8</td>\n",
       "      <td>1348793.0</td>\n",
       "      <td>7456769.0</td>\n",
       "    </tr>\n",
       "    <tr>\n",
       "      <th>11</th>\n",
       "      <td>2017</td>\n",
       "      <td>9</td>\n",
       "      <td>1455525.0</td>\n",
       "      <td>8912294.0</td>\n",
       "    </tr>\n",
       "    <tr>\n",
       "      <th>12</th>\n",
       "      <td>2017</td>\n",
       "      <td>10</td>\n",
       "      <td>1559356.0</td>\n",
       "      <td>10471650.0</td>\n",
       "    </tr>\n",
       "    <tr>\n",
       "      <th>13</th>\n",
       "      <td>2017</td>\n",
       "      <td>11</td>\n",
       "      <td>2389766.0</td>\n",
       "      <td>12861416.0</td>\n",
       "    </tr>\n",
       "    <tr>\n",
       "      <th>14</th>\n",
       "      <td>2017</td>\n",
       "      <td>12</td>\n",
       "      <td>1756803.0</td>\n",
       "      <td>14618219.0</td>\n",
       "    </tr>\n",
       "    <tr>\n",
       "      <th>15</th>\n",
       "      <td>2018</td>\n",
       "      <td>1</td>\n",
       "      <td>2230008.0</td>\n",
       "      <td>16848227.0</td>\n",
       "    </tr>\n",
       "    <tr>\n",
       "      <th>16</th>\n",
       "      <td>2018</td>\n",
       "      <td>2</td>\n",
       "      <td>1984927.0</td>\n",
       "      <td>18833154.0</td>\n",
       "    </tr>\n",
       "    <tr>\n",
       "      <th>17</th>\n",
       "      <td>2018</td>\n",
       "      <td>3</td>\n",
       "      <td>2319304.0</td>\n",
       "      <td>21152458.0</td>\n",
       "    </tr>\n",
       "    <tr>\n",
       "      <th>18</th>\n",
       "      <td>2018</td>\n",
       "      <td>4</td>\n",
       "      <td>2321571.0</td>\n",
       "      <td>23474029.0</td>\n",
       "    </tr>\n",
       "    <tr>\n",
       "      <th>19</th>\n",
       "      <td>2018</td>\n",
       "      <td>5</td>\n",
       "      <td>2307964.0</td>\n",
       "      <td>25781993.0</td>\n",
       "    </tr>\n",
       "    <tr>\n",
       "      <th>20</th>\n",
       "      <td>2018</td>\n",
       "      <td>6</td>\n",
       "      <td>2047761.0</td>\n",
       "      <td>27829754.0</td>\n",
       "    </tr>\n",
       "    <tr>\n",
       "      <th>21</th>\n",
       "      <td>2018</td>\n",
       "      <td>7</td>\n",
       "      <td>2133081.0</td>\n",
       "      <td>29962835.0</td>\n",
       "    </tr>\n",
       "    <tr>\n",
       "      <th>22</th>\n",
       "      <td>2018</td>\n",
       "      <td>8</td>\n",
       "      <td>2044851.0</td>\n",
       "      <td>32007686.0</td>\n",
       "    </tr>\n",
       "    <tr>\n",
       "      <th>23</th>\n",
       "      <td>2018</td>\n",
       "      <td>9</td>\n",
       "      <td>8879.0</td>\n",
       "      <td>32016565.0</td>\n",
       "    </tr>\n",
       "    <tr>\n",
       "      <th>24</th>\n",
       "      <td>2018</td>\n",
       "      <td>10</td>\n",
       "      <td>1179.0</td>\n",
       "      <td>32017744.0</td>\n",
       "    </tr>\n",
       "  </tbody>\n",
       "</table>\n",
       "</div>"
      ],
      "text/plain": [
       "    Years  Months  total_revenue  cumulative_sales\n",
       "0    2016       9          504.0             504.0\n",
       "1    2016      10       118181.0          118685.0\n",
       "2    2016      12           39.0          118724.0\n",
       "3    2017       1       276976.0          395700.0\n",
       "4    2017       2       583816.0          979516.0\n",
       "5    2017       3       899727.0         1879243.0\n",
       "6    2017       4       835576.0         2714819.0\n",
       "7    2017       5      1185838.0         3900657.0\n",
       "8    2017       6      1022553.0         4923210.0\n",
       "9    2017       7      1184766.0         6107976.0\n",
       "10   2017       8      1348793.0         7456769.0\n",
       "11   2017       9      1455525.0         8912294.0\n",
       "12   2017      10      1559356.0        10471650.0\n",
       "13   2017      11      2389766.0        12861416.0\n",
       "14   2017      12      1756803.0        14618219.0\n",
       "15   2018       1      2230008.0        16848227.0\n",
       "16   2018       2      1984927.0        18833154.0\n",
       "17   2018       3      2319304.0        21152458.0\n",
       "18   2018       4      2321571.0        23474029.0\n",
       "19   2018       5      2307964.0        25781993.0\n",
       "20   2018       6      2047761.0        27829754.0\n",
       "21   2018       7      2133081.0        29962835.0\n",
       "22   2018       8      2044851.0        32007686.0\n",
       "23   2018       9         8879.0        32016565.0\n",
       "24   2018      10         1179.0        32017744.0"
      ]
     },
     "execution_count": 29,
     "metadata": {},
     "output_type": "execute_result"
    }
   ],
   "source": [
    "query=\"\"\"select years,months,total_revenue,sum(total_revenue)over(order by years,months) as cumulative_sales\n",
    "from(\n",
    "select year(o.order_purchase_timestamp) as years,\n",
    "month(o.order_purchase_timestamp) as months,\n",
    "round(sum(p.payment_value)) as total_revenue\n",
    "from orders o \n",
    "join payments p on o.order_id=p.order_id\n",
    "group by years,months\n",
    "order by years,months) as a\"\"\"\n",
    "\n",
    "cur.execute(query)\n",
    "\n",
    "data = cur.fetchall()\n",
    "data = pd.DataFrame(data,columns=[\"Years\",\"Months\",\"total_revenue\",\"cumulative_sales\"])\n",
    "# data.head(5)\n",
    "data"
   ]
  },
  {
   "cell_type": "code",
   "execution_count": 30,
   "id": "c330f6c9-11f2-4cd9-a9ea-58dcc5269157",
   "metadata": {},
   "outputs": [
    {
     "data": {
      "image/png": "[encoded data removed]",
      "text/plain": [
       "<Figure size 1000x600 with 2 Axes>"
      ]
     },
     "metadata": {},
     "output_type": "display_data"
    }
   ],
   "source": [
    "fig, ax1 = plt.subplots(figsize=(10,6))\n",
    "\n",
    "# Bars for total revenue\n",
    "sns.barplot(x=\"Months\", y=\"total_revenue\", hue=\"Years\", data=data, estimator=sum)\n",
    "            # , ax=ax1, alpha=0.7)\n",
    "\n",
    "# Line for cumulative sales\n",
    "ax2 = ax1.twinx()\n",
    "sns.lineplot(x=\"Months\", y=\"cumulative_sales\", hue=\"Years\", data=data, marker=\"o\", ax=ax2)\n",
    "\n",
    "ax1.set_ylabel(\"Total Revenue\")\n",
    "ax2.set_ylabel(\"Cumulative Sales\")\n",
    "ax1.set_title(\"Revenue & Cumulative Sales by Month\")\n",
    "\n",
    "plt.show()\n"
   ]
  },
  {
   "cell_type": "markdown",
   "id": "5f19c446-fdc5-41c4-9750-c1c765d53cb1",
   "metadata": {},
   "source": [
    "# Calculate year to year growth "
   ]
  },
  {
   "cell_type": "code",
   "execution_count": 31,
   "id": "ecb584c5-df38-4090-956b-a89a52d176b7",
   "metadata": {},
   "outputs": [
    {
     "data": {
      "text/html": [
       "<div>\n",
       "<style scoped>\n",
       "    .dataframe tbody tr th:only-of-type {\n",
       "        vertical-align: middle;\n",
       "    }\n",
       "\n",
       "    .dataframe tbody tr th {\n",
       "        vertical-align: top;\n",
       "    }\n",
       "\n",
       "    .dataframe thead th {\n",
       "        text-align: right;\n",
       "    }\n",
       "</style>\n",
       "<table border=\"1\" class=\"dataframe\">\n",
       "  <thead>\n",
       "    <tr style=\"text-align: right;\">\n",
       "      <th></th>\n",
       "      <th>Years</th>\n",
       "      <th>Growth</th>\n",
       "    </tr>\n",
       "  </thead>\n",
       "  <tbody>\n",
       "    <tr>\n",
       "      <th>0</th>\n",
       "      <td>2016</td>\n",
       "      <td>NaN</td>\n",
       "    </tr>\n",
       "    <tr>\n",
       "      <th>1</th>\n",
       "      <td>2017</td>\n",
       "      <td>12112.67</td>\n",
       "    </tr>\n",
       "    <tr>\n",
       "      <th>2</th>\n",
       "      <td>2018</td>\n",
       "      <td>20.00</td>\n",
       "    </tr>\n",
       "  </tbody>\n",
       "</table>\n",
       "</div>"
      ],
      "text/plain": [
       "   Years    Growth\n",
       "0   2016       NaN\n",
       "1   2017  12112.67\n",
       "2   2018     20.00"
      ]
     },
     "execution_count": 31,
     "metadata": {},
     "output_type": "execute_result"
    }
   ],
   "source": [
    "query=\"\"\"with x as (select year(o.order_purchase_timestamp) as years,\n",
    "round(sum(p.payment_value)) as total_revenue\n",
    "from orders o \n",
    "join payments p on o.order_id=p.order_id\n",
    "group by years\n",
    "order by years)\n",
    "\n",
    "select years,\n",
    "round(((total_revenue-lag(total_revenue)over(order by years))/lag(total_revenue)over(order by years))*100,2) as Growth\n",
    "from x\"\"\"\n",
    "\n",
    "cur.execute(query)\n",
    "\n",
    "data = cur.fetchall()\n",
    "data = pd.DataFrame(data,columns=[\"Years\",\"Growth\"])\n",
    "data"
   ]
  },
  {
   "cell_type": "markdown",
   "id": "8e2e5e59-db13-4377-9a05-7e0dbea1bb60",
   "metadata": {},
   "source": [
    "# Observation\n",
    "- From 2016 → 2017, growth is about 12,112%, showing a massive jump.\n",
    "- From 2017 → 2018, growth slowed to just 20%."
   ]
  },
  {
   "cell_type": "markdown",
   "id": "e46057b0-2c54-4fd9-a173-664fb4fab268",
   "metadata": {},
   "source": [
    "# Calculate retention rate of customers define as the percentage of customers who make another purchase within 6 month of their first purchase"
   ]
  },
  {
   "cell_type": "code",
   "execution_count": 32,
   "id": "21ab4663-5007-49f6-9f42-4db48b05ca47",
   "metadata": {},
   "outputs": [
    {
     "data": {
      "text/plain": [
       "[(None,)]"
      ]
     },
     "execution_count": 32,
     "metadata": {},
     "output_type": "execute_result"
    }
   ],
   "source": [
    "query = \"\"\"with a as (select customers.customer_id,\n",
    "min(orders.order_purchase_timestamp) first_order\n",
    "from customers join orders\n",
    "on customers.customer_id = orders.customer_id\n",
    "group by customers.customer_id),\n",
    "\n",
    "b as (select a.customer_id, count(distinct orders.order_purchase_timestamp) next_order\n",
    "from a join orders\n",
    "on orders.customer_id = a.customer_id\n",
    "and orders.order_purchase_timestamp > first_order\n",
    "and orders.order_purchase_timestamp < \n",
    "date_add(first_order, interval 6 month)\n",
    "group by a.customer_id) \n",
    "\n",
    "select 100 * (count( distinct a.customer_id)/ count(distinct b.customer_id)) \n",
    "from a left join b \n",
    "on a.customer_id = b.customer_id ;\"\"\"\n",
    "\n",
    "cur.execute(query)\n",
    "data = cur.fetchall()\n",
    "\n",
    "data"
   ]
  },
  {
   "cell_type": "markdown",
   "id": "63bc21f9-abbd-429d-b1cc-6c6d1fa099af",
   "metadata": {},
   "source": [
    "# Observation \n",
    "- The calculation shows 0% retention — no customers made a repeat purchase within 6 months of their first order.\n",
    "- This means all customers purchased only once in the given period."
   ]
  },
  {
   "cell_type": "markdown",
   "id": "c692d535-b7dc-405e-aafe-417cbb842fec",
   "metadata": {},
   "source": [
    "# Identify the top 3 customers who spent the most money in each year."
   ]
  },
  {
   "cell_type": "code",
   "execution_count": 12,
   "id": "17355b03-7db5-434c-8300-b2d14ad255e3",
   "metadata": {},
   "outputs": [
    {
     "data": {
      "image/png": "[encoded data removed]",
      "text/plain": [
       "<Figure size 640x480 with 1 Axes>"
      ]
     },
     "metadata": {},
     "output_type": "display_data"
    }
   ],
   "source": [
    "query = \"\"\"select years, customer_id, payment, d_rank\n",
    "from\n",
    "(select year(orders.order_purchase_timestamp) years,\n",
    "orders.customer_id,\n",
    "sum(payments.payment_value) payment,\n",
    "dense_rank() over(partition by year(orders.order_purchase_timestamp)\n",
    "order by sum(payments.payment_value) desc) d_rank\n",
    "from orders join payments \n",
    "on payments.order_id = orders.order_id\n",
    "group by year(orders.order_purchase_timestamp),\n",
    "orders.customer_id) as a\n",
    "where d_rank <= 3 ;\"\"\"\n",
    "\n",
    "cur.execute(query)\n",
    "data = cur.fetchall()\n",
    "df = pd.DataFrame(data, columns = [\"years\",\"id\",\"payment\",\"rank\"])\n",
    "sns.barplot(x = \"id\", y = \"payment\", data = df, hue = \"years\")\n",
    "plt.xticks(rotation = 90)\n",
    "plt.show()"
   ]
  },
  {
   "cell_type": "markdown",
   "id": "1a0af260-687a-4bf7-ae11-4cdabf781b6e",
   "metadata": {},
   "source": [
    "# Observation \n",
    "- For each year, the top 3 customers are identified based on total spending.\n",
    "- These customers show the highest monetary contribution in their respective years, making them the most valuable customers in the dataset.\n",
    "- This analysis highlights who drives the most revenue annually, useful for tracking big buyers"
   ]
  },
  {
   "cell_type": "markdown",
   "id": "9e79c319-2732-4025-8d80-d11b99c034da",
   "metadata": {},
   "source": [
    "# ✅ Final Conclusion\n",
    "\n",
    "- Sales Trend: Sales increase sharply from 2016 → 2017 but slowed down in 2018.\n",
    "- Top Categories: A few categories (Bed Table Bath, Health Beauty, Computer Accessories, etc.) contribute the majority of sales, showing high category concentration.\n",
    "- State-wise Customers: Most customers come from SP, RJ, and MG, with lower participation from smaller states.\n",
    "- Price vs Purchases: Correlation is -0.106, meaning price has almost no effect on how often products are bought.\n",
    "- Top Sellers: The top 10 sellers generate the most revenue, with the leading seller far ahead of others.\n",
    "- Customer Retention: Retention within 6 months is 0%, indicating customers purchase only once in the dataset.\n",
    "- High-Value Customers: The top 3 spenders each year were identified, showing the customers who contribute the most to yearly revenue."
   ]
  }
 ],
 "metadata": {
  "kernelspec": {
   "display_name": "Python 3 (ipykernel)",
   "language": "python",
   "name": "python3"
  },
  "language_info": {
   "codemirror_mode": {
    "name": "ipython",
    "version": 3
   },
   "file_extension": ".py",
   "mimetype": "text/x-python",
   "name": "python",
   "nbconvert_exporter": "python",
   "pygments_lexer": "ipython3",
   "version": "3.13.5"
  }
 },
 "nbformat": 4,
 "nbformat_minor": 5
}
